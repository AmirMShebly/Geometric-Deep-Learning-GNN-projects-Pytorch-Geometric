{
  "nbformat": 4,
  "nbformat_minor": 0,
  "metadata": {
    "colab": {
      "provenance": []
    },
    "kernelspec": {
      "name": "python3",
      "display_name": "Python 3"
    },
    "language_info": {
      "name": "python"
    }
  },
  "cells": [
    {
      "cell_type": "code",
      "execution_count": 1,
      "metadata": {
        "colab": {
          "base_uri": "https://localhost:8080/"
        },
        "id": "ydVanuvB6k4E",
        "outputId": "643cb22a-3c24-4da1-c528-7183ca403342"
      },
      "outputs": [
        {
          "output_type": "stream",
          "name": "stdout",
          "text": [
            "Requirement already satisfied: torch_geometric in /usr/local/lib/python3.10/dist-packages (2.6.1)\n",
            "Requirement already satisfied: aiohttp in /usr/local/lib/python3.10/dist-packages (from torch_geometric) (3.10.8)\n",
            "Requirement already satisfied: fsspec in /usr/local/lib/python3.10/dist-packages (from torch_geometric) (2024.6.1)\n",
            "Requirement already satisfied: jinja2 in /usr/local/lib/python3.10/dist-packages (from torch_geometric) (3.1.4)\n",
            "Requirement already satisfied: numpy in /usr/local/lib/python3.10/dist-packages (from torch_geometric) (1.26.4)\n",
            "Requirement already satisfied: psutil>=5.8.0 in /usr/local/lib/python3.10/dist-packages (from torch_geometric) (5.9.5)\n",
            "Requirement already satisfied: pyparsing in /usr/local/lib/python3.10/dist-packages (from torch_geometric) (3.1.4)\n",
            "Requirement already satisfied: requests in /usr/local/lib/python3.10/dist-packages (from torch_geometric) (2.32.3)\n",
            "Requirement already satisfied: tqdm in /usr/local/lib/python3.10/dist-packages (from torch_geometric) (4.66.5)\n",
            "Requirement already satisfied: aiohappyeyeballs>=2.3.0 in /usr/local/lib/python3.10/dist-packages (from aiohttp->torch_geometric) (2.4.2)\n",
            "Requirement already satisfied: aiosignal>=1.1.2 in /usr/local/lib/python3.10/dist-packages (from aiohttp->torch_geometric) (1.3.1)\n",
            "Requirement already satisfied: attrs>=17.3.0 in /usr/local/lib/python3.10/dist-packages (from aiohttp->torch_geometric) (24.2.0)\n",
            "Requirement already satisfied: frozenlist>=1.1.1 in /usr/local/lib/python3.10/dist-packages (from aiohttp->torch_geometric) (1.4.1)\n",
            "Requirement already satisfied: multidict<7.0,>=4.5 in /usr/local/lib/python3.10/dist-packages (from aiohttp->torch_geometric) (6.1.0)\n",
            "Requirement already satisfied: yarl<2.0,>=1.12.0 in /usr/local/lib/python3.10/dist-packages (from aiohttp->torch_geometric) (1.13.1)\n",
            "Requirement already satisfied: async-timeout<5.0,>=4.0 in /usr/local/lib/python3.10/dist-packages (from aiohttp->torch_geometric) (4.0.3)\n",
            "Requirement already satisfied: MarkupSafe>=2.0 in /usr/local/lib/python3.10/dist-packages (from jinja2->torch_geometric) (2.1.5)\n",
            "Requirement already satisfied: charset-normalizer<4,>=2 in /usr/local/lib/python3.10/dist-packages (from requests->torch_geometric) (3.3.2)\n",
            "Requirement already satisfied: idna<4,>=2.5 in /usr/local/lib/python3.10/dist-packages (from requests->torch_geometric) (3.10)\n",
            "Requirement already satisfied: urllib3<3,>=1.21.1 in /usr/local/lib/python3.10/dist-packages (from requests->torch_geometric) (2.2.3)\n",
            "Requirement already satisfied: certifi>=2017.4.17 in /usr/local/lib/python3.10/dist-packages (from requests->torch_geometric) (2024.8.30)\n",
            "Requirement already satisfied: typing-extensions>=4.1.0 in /usr/local/lib/python3.10/dist-packages (from multidict<7.0,>=4.5->aiohttp->torch_geometric) (4.12.2)\n"
          ]
        }
      ],
      "source": [
        "! pip install torch_geometric"
      ]
    },
    {
      "cell_type": "code",
      "source": [
        "import torch\n",
        "from torch.optim import Adam\n",
        "import torch_geometric\n",
        "from torch_geometric.datasets import Planetoid\n",
        "from torch_geometric.nn import GCNConv\n",
        "from torch_geometric.nn import VGAE\n",
        "import torch_geometric.transforms as T\n",
        "from torch_geometric.utils import train_test_split_edges"
      ],
      "metadata": {
        "id": "niGaIUzu6yzf"
      },
      "execution_count": 2,
      "outputs": []
    },
    {
      "cell_type": "code",
      "source": [
        "dataset = Planetoid(root='./data', name=\"PubMed\", transform = T.NormalizeFeatures())\n",
        "data = dataset[0]"
      ],
      "metadata": {
        "id": "XCSkIDct7Hod"
      },
      "execution_count": 3,
      "outputs": []
    },
    {
      "cell_type": "code",
      "source": [
        "print(data)"
      ],
      "metadata": {
        "colab": {
          "base_uri": "https://localhost:8080/"
        },
        "id": "BlM5yPfT7zlC",
        "outputId": "7b037d64-43fc-402c-d9a9-d7d0c8b0386b"
      },
      "execution_count": 4,
      "outputs": [
        {
          "output_type": "stream",
          "name": "stdout",
          "text": [
            "Data(x=[19717, 500], edge_index=[2, 88648], y=[19717], train_mask=[19717], val_mask=[19717], test_mask=[19717])\n"
          ]
        }
      ]
    },
    {
      "cell_type": "code",
      "source": [
        "data.train_mask = data.val_mask = data.test_mask = None"
      ],
      "metadata": {
        "id": "S7McG0n974ti"
      },
      "execution_count": 5,
      "outputs": []
    },
    {
      "cell_type": "code",
      "source": [
        "data = train_test_split_edges(data)"
      ],
      "metadata": {
        "colab": {
          "base_uri": "https://localhost:8080/"
        },
        "id": "xnEEGt9v8Iiw",
        "outputId": "c69c2ea4-aada-464b-8bad-efd39b76ae3f"
      },
      "execution_count": 6,
      "outputs": [
        {
          "output_type": "stream",
          "name": "stderr",
          "text": [
            "/usr/local/lib/python3.10/dist-packages/torch_geometric/deprecation.py:26: UserWarning: 'train_test_split_edges' is deprecated, use 'transforms.RandomLinkSplit' instead\n",
            "  warnings.warn(out)\n"
          ]
        }
      ]
    },
    {
      "cell_type": "code",
      "source": [
        "print(data)"
      ],
      "metadata": {
        "colab": {
          "base_uri": "https://localhost:8080/"
        },
        "id": "tDmmxaZQ8N6t",
        "outputId": "dbb80b7d-9ef5-4dfc-cb51-e23e4712ba64"
      },
      "execution_count": 7,
      "outputs": [
        {
          "output_type": "stream",
          "name": "stdout",
          "text": [
            "Data(x=[19717, 500], y=[19717], val_pos_edge_index=[2, 2216], test_pos_edge_index=[2, 4432], train_pos_edge_index=[2, 75352], train_neg_adj_mask=[19717, 19717], val_neg_edge_index=[2, 2216], test_neg_edge_index=[2, 4432])\n"
          ]
        }
      ]
    },
    {
      "cell_type": "code",
      "source": [
        "class VGCNEncoder(torch.nn.Module):\n",
        "    def __init__(self, in_channels, out_channels):\n",
        "        super(VGCNEncoder, self).__init__()\n",
        "\n",
        "        self.conv1 = GCNConv(in_channels, 2*out_channels, cached=True)\n",
        "        self.conv_mu = GCNConv(2*out_channels, out_channels, cached=True)\n",
        "        self.conv_logstd = GCNConv(2*out_channels, out_channels, cached=True)\n",
        "\n",
        "    def forward(self, x, edge_index):\n",
        "        x = self.conv1(x, edge_index).relu()\n",
        "        return self.conv_mu(x, edge_index), self.conv_logstd(x, edge_index)"
      ],
      "metadata": {
        "id": "qwakqtTe8SQV"
      },
      "execution_count": 8,
      "outputs": []
    },
    {
      "cell_type": "code",
      "source": [
        "device = torch.device('cuda' if torch.cuda.is_available() else 'cpu')"
      ],
      "metadata": {
        "id": "GQeMKJ7L-xRg"
      },
      "execution_count": 9,
      "outputs": []
    },
    {
      "cell_type": "code",
      "source": [
        "out_channels = 2\n",
        "num_features = dataset.num_features\n",
        "\n",
        "model = VGAE(VGCNEncoder(num_features, out_channels)).to(device)"
      ],
      "metadata": {
        "id": "6yPEhHRq-Qtj"
      },
      "execution_count": 10,
      "outputs": []
    },
    {
      "cell_type": "code",
      "source": [
        "model"
      ],
      "metadata": {
        "colab": {
          "base_uri": "https://localhost:8080/"
        },
        "id": "Au9eHLIbAPIf",
        "outputId": "4ce17897-94e4-4d7f-d07e-d799bc192ab7"
      },
      "execution_count": 11,
      "outputs": [
        {
          "output_type": "execute_result",
          "data": {
            "text/plain": [
              "VGAE(\n",
              "  (encoder): VGCNEncoder(\n",
              "    (conv1): GCNConv(500, 4)\n",
              "    (conv_mu): GCNConv(4, 2)\n",
              "    (conv_logstd): GCNConv(4, 2)\n",
              "  )\n",
              "  (decoder): InnerProductDecoder()\n",
              ")"
            ]
          },
          "metadata": {},
          "execution_count": 11
        }
      ]
    },
    {
      "cell_type": "code",
      "source": [
        "x = data.x.to(device)\n",
        "train_pos_edge_index = data.train_pos_edge_index.to(device)"
      ],
      "metadata": {
        "id": "ZKe2P6eH-QsO"
      },
      "execution_count": 12,
      "outputs": []
    },
    {
      "cell_type": "code",
      "source": [
        "optimizer = Adam(model.parameters(), lr=0.001)"
      ],
      "metadata": {
        "id": "kyYnnZiE-Qpd"
      },
      "execution_count": 13,
      "outputs": []
    },
    {
      "cell_type": "code",
      "source": [
        "def train():\n",
        "  model.train()\n",
        "  optimizer.zero_grad()\n",
        "  z = model.encode(x, train_pos_edge_index)\n",
        "  loss = model.recon_loss(z, train_pos_edge_index)\n",
        "  loss += (1 / data.num_nodes) * model.kl_loss()\n",
        "  loss.backward()\n",
        "  optimizer.step()\n",
        "  return float(loss)\n",
        "\n",
        "\n",
        "def test(pos_edge_index, neg_edge_index):\n",
        "  model.eval()\n",
        "  with torch.no_grad():\n",
        "      z = model.encode(x, train_pos_edge_index)\n",
        "  return model.test(z, pos_edge_index, neg_edge_index)"
      ],
      "metadata": {
        "id": "23Qlc22b-Qnl"
      },
      "execution_count": 14,
      "outputs": []
    },
    {
      "cell_type": "code",
      "source": [
        "epochs = 350\n",
        "\n",
        "for epoch in range(epochs):\n",
        "    loss = train()\n",
        "    auc, ap = test(data.test_pos_edge_index, data.test_neg_edge_index)\n",
        "    if epoch % 10 == 0:\n",
        "        print(f'Epoch: {epoch}, Loss: {loss:.4f}, AUC: {auc:.4f}, AP: {ap:.4f}')"
      ],
      "metadata": {
        "colab": {
          "base_uri": "https://localhost:8080/"
        },
        "id": "e5nPpk03AJp-",
        "outputId": "33bfb60e-8f58-4615-b7c7-b6fc5313ad42"
      },
      "execution_count": 15,
      "outputs": [
        {
          "output_type": "stream",
          "name": "stdout",
          "text": [
            "Epoch: 0, Loss: 1.7750, AUC: 0.7024, AP: 0.7236\n",
            "Epoch: 10, Loss: 1.7588, AUC: 0.8527, AP: 0.8425\n",
            "Epoch: 20, Loss: 1.7331, AUC: 0.8796, AP: 0.8615\n",
            "Epoch: 30, Loss: 1.7248, AUC: 0.8859, AP: 0.8664\n",
            "Epoch: 40, Loss: 1.6755, AUC: 0.8882, AP: 0.8683\n",
            "Epoch: 50, Loss: 1.6917, AUC: 0.8895, AP: 0.8694\n",
            "Epoch: 60, Loss: 1.6553, AUC: 0.8904, AP: 0.8702\n",
            "Epoch: 70, Loss: 1.6407, AUC: 0.8910, AP: 0.8708\n",
            "Epoch: 80, Loss: 1.6049, AUC: 0.8915, AP: 0.8713\n",
            "Epoch: 90, Loss: 1.5836, AUC: 0.8918, AP: 0.8716\n",
            "Epoch: 100, Loss: 1.5722, AUC: 0.8920, AP: 0.8719\n",
            "Epoch: 110, Loss: 1.5682, AUC: 0.8923, AP: 0.8721\n",
            "Epoch: 120, Loss: 1.5468, AUC: 0.8924, AP: 0.8723\n",
            "Epoch: 130, Loss: 1.5331, AUC: 0.8926, AP: 0.8725\n",
            "Epoch: 140, Loss: 1.5140, AUC: 0.8928, AP: 0.8728\n",
            "Epoch: 150, Loss: 1.4956, AUC: 0.8930, AP: 0.8730\n",
            "Epoch: 160, Loss: 1.4827, AUC: 0.8931, AP: 0.8732\n",
            "Epoch: 170, Loss: 1.4727, AUC: 0.8932, AP: 0.8734\n",
            "Epoch: 180, Loss: 1.4560, AUC: 0.8933, AP: 0.8736\n",
            "Epoch: 190, Loss: 1.4515, AUC: 0.8934, AP: 0.8737\n",
            "Epoch: 200, Loss: 1.4305, AUC: 0.8935, AP: 0.8739\n",
            "Epoch: 210, Loss: 1.4295, AUC: 0.8936, AP: 0.8740\n",
            "Epoch: 220, Loss: 1.4174, AUC: 0.8937, AP: 0.8741\n",
            "Epoch: 230, Loss: 1.4032, AUC: 0.8937, AP: 0.8743\n",
            "Epoch: 240, Loss: 1.3972, AUC: 0.8937, AP: 0.8744\n",
            "Epoch: 250, Loss: 1.3835, AUC: 0.8938, AP: 0.8744\n",
            "Epoch: 260, Loss: 1.3769, AUC: 0.8938, AP: 0.8745\n",
            "Epoch: 270, Loss: 1.3739, AUC: 0.8938, AP: 0.8746\n",
            "Epoch: 280, Loss: 1.3601, AUC: 0.8938, AP: 0.8747\n",
            "Epoch: 290, Loss: 1.3556, AUC: 0.8938, AP: 0.8747\n",
            "Epoch: 300, Loss: 1.3488, AUC: 0.8938, AP: 0.8748\n",
            "Epoch: 310, Loss: 1.3461, AUC: 0.8938, AP: 0.8749\n",
            "Epoch: 320, Loss: 1.3381, AUC: 0.8938, AP: 0.8749\n",
            "Epoch: 330, Loss: 1.3299, AUC: 0.8938, AP: 0.8749\n",
            "Epoch: 340, Loss: 1.3233, AUC: 0.8938, AP: 0.8750\n"
          ]
        }
      ]
    },
    {
      "cell_type": "code",
      "source": [],
      "metadata": {
        "id": "R6xTrMKKAzrE"
      },
      "execution_count": 15,
      "outputs": []
    }
  ]
}