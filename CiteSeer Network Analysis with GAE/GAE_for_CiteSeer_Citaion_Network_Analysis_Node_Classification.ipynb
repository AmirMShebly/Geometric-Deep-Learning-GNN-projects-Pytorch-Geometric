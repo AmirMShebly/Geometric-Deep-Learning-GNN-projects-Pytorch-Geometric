{
  "nbformat": 4,
  "nbformat_minor": 0,
  "metadata": {
    "colab": {
      "provenance": []
    },
    "kernelspec": {
      "name": "python3",
      "display_name": "Python 3"
    },
    "language_info": {
      "name": "python"
    }
  },
  "cells": [
    {
      "cell_type": "code",
      "execution_count": 1,
      "metadata": {
        "colab": {
          "base_uri": "https://localhost:8080/"
        },
        "id": "ydVanuvB6k4E",
        "outputId": "94b5c7fb-652c-4f09-f64e-dd46956fbbbe"
      },
      "outputs": [
        {
          "output_type": "stream",
          "name": "stdout",
          "text": [
            "Requirement already satisfied: torch_geometric in /usr/local/lib/python3.10/dist-packages (2.6.1)\n",
            "Requirement already satisfied: aiohttp in /usr/local/lib/python3.10/dist-packages (from torch_geometric) (3.10.8)\n",
            "Requirement already satisfied: fsspec in /usr/local/lib/python3.10/dist-packages (from torch_geometric) (2024.6.1)\n",
            "Requirement already satisfied: jinja2 in /usr/local/lib/python3.10/dist-packages (from torch_geometric) (3.1.4)\n",
            "Requirement already satisfied: numpy in /usr/local/lib/python3.10/dist-packages (from torch_geometric) (1.26.4)\n",
            "Requirement already satisfied: psutil>=5.8.0 in /usr/local/lib/python3.10/dist-packages (from torch_geometric) (5.9.5)\n",
            "Requirement already satisfied: pyparsing in /usr/local/lib/python3.10/dist-packages (from torch_geometric) (3.1.4)\n",
            "Requirement already satisfied: requests in /usr/local/lib/python3.10/dist-packages (from torch_geometric) (2.32.3)\n",
            "Requirement already satisfied: tqdm in /usr/local/lib/python3.10/dist-packages (from torch_geometric) (4.66.5)\n",
            "Requirement already satisfied: aiohappyeyeballs>=2.3.0 in /usr/local/lib/python3.10/dist-packages (from aiohttp->torch_geometric) (2.4.2)\n",
            "Requirement already satisfied: aiosignal>=1.1.2 in /usr/local/lib/python3.10/dist-packages (from aiohttp->torch_geometric) (1.3.1)\n",
            "Requirement already satisfied: attrs>=17.3.0 in /usr/local/lib/python3.10/dist-packages (from aiohttp->torch_geometric) (24.2.0)\n",
            "Requirement already satisfied: frozenlist>=1.1.1 in /usr/local/lib/python3.10/dist-packages (from aiohttp->torch_geometric) (1.4.1)\n",
            "Requirement already satisfied: multidict<7.0,>=4.5 in /usr/local/lib/python3.10/dist-packages (from aiohttp->torch_geometric) (6.1.0)\n",
            "Requirement already satisfied: yarl<2.0,>=1.12.0 in /usr/local/lib/python3.10/dist-packages (from aiohttp->torch_geometric) (1.13.1)\n",
            "Requirement already satisfied: async-timeout<5.0,>=4.0 in /usr/local/lib/python3.10/dist-packages (from aiohttp->torch_geometric) (4.0.3)\n",
            "Requirement already satisfied: MarkupSafe>=2.0 in /usr/local/lib/python3.10/dist-packages (from jinja2->torch_geometric) (2.1.5)\n",
            "Requirement already satisfied: charset-normalizer<4,>=2 in /usr/local/lib/python3.10/dist-packages (from requests->torch_geometric) (3.3.2)\n",
            "Requirement already satisfied: idna<4,>=2.5 in /usr/local/lib/python3.10/dist-packages (from requests->torch_geometric) (3.10)\n",
            "Requirement already satisfied: urllib3<3,>=1.21.1 in /usr/local/lib/python3.10/dist-packages (from requests->torch_geometric) (2.2.3)\n",
            "Requirement already satisfied: certifi>=2017.4.17 in /usr/local/lib/python3.10/dist-packages (from requests->torch_geometric) (2024.8.30)\n",
            "Requirement already satisfied: typing-extensions>=4.1.0 in /usr/local/lib/python3.10/dist-packages (from multidict<7.0,>=4.5->aiohttp->torch_geometric) (4.12.2)\n"
          ]
        }
      ],
      "source": [
        "! pip install torch_geometric"
      ]
    },
    {
      "cell_type": "code",
      "source": [
        "import torch\n",
        "from torch.optim import Adam\n",
        "import torch_geometric\n",
        "from torch_geometric.datasets import Planetoid\n",
        "from torch_geometric.nn import GCNConv\n",
        "from torch_geometric.nn import GAE\n",
        "import torch_geometric.transforms as T\n",
        "from torch_geometric.utils import train_test_split_edges"
      ],
      "metadata": {
        "id": "niGaIUzu6yzf"
      },
      "execution_count": 2,
      "outputs": []
    },
    {
      "cell_type": "code",
      "source": [
        "dataset = Planetoid(root='./data', name=\"CiteSeer\", transform = T.NormalizeFeatures())\n",
        "data = dataset[0]"
      ],
      "metadata": {
        "id": "XCSkIDct7Hod"
      },
      "execution_count": 3,
      "outputs": []
    },
    {
      "cell_type": "code",
      "source": [
        "print(data)"
      ],
      "metadata": {
        "colab": {
          "base_uri": "https://localhost:8080/"
        },
        "id": "BlM5yPfT7zlC",
        "outputId": "3a273490-9416-41a3-e72b-6d231345acb2"
      },
      "execution_count": 4,
      "outputs": [
        {
          "output_type": "stream",
          "name": "stdout",
          "text": [
            "Data(x=[3327, 3703], edge_index=[2, 9104], y=[3327], train_mask=[3327], val_mask=[3327], test_mask=[3327])\n"
          ]
        }
      ]
    },
    {
      "cell_type": "code",
      "source": [
        "data.train_mask = data.val_mask = data.test_mask = None"
      ],
      "metadata": {
        "id": "S7McG0n974ti"
      },
      "execution_count": 5,
      "outputs": []
    },
    {
      "cell_type": "code",
      "source": [
        "data = train_test_split_edges(data)"
      ],
      "metadata": {
        "colab": {
          "base_uri": "https://localhost:8080/"
        },
        "id": "xnEEGt9v8Iiw",
        "outputId": "c931fde8-ceac-46a4-c0a1-e4f1dfb179af"
      },
      "execution_count": 6,
      "outputs": [
        {
          "output_type": "stream",
          "name": "stderr",
          "text": [
            "/usr/local/lib/python3.10/dist-packages/torch_geometric/deprecation.py:26: UserWarning: 'train_test_split_edges' is deprecated, use 'transforms.RandomLinkSplit' instead\n",
            "  warnings.warn(out)\n"
          ]
        }
      ]
    },
    {
      "cell_type": "code",
      "source": [
        "print(data)"
      ],
      "metadata": {
        "colab": {
          "base_uri": "https://localhost:8080/"
        },
        "id": "tDmmxaZQ8N6t",
        "outputId": "14806e2d-aa18-4865-e594-f25b0d5d7c51"
      },
      "execution_count": 7,
      "outputs": [
        {
          "output_type": "stream",
          "name": "stdout",
          "text": [
            "Data(x=[3327, 3703], y=[3327], val_pos_edge_index=[2, 227], test_pos_edge_index=[2, 455], train_pos_edge_index=[2, 7740], train_neg_adj_mask=[3327, 3327], val_neg_edge_index=[2, 227], test_neg_edge_index=[2, 455])\n"
          ]
        }
      ]
    },
    {
      "cell_type": "code",
      "source": [
        "class GCNEncoder(torch.nn.Module):\n",
        "    def __init__(self, in_channels, out_channels):\n",
        "        super(GCNEncoder, self).__init__()\n",
        "\n",
        "        self.conv1 = GCNConv(in_channels, 2*out_channels)\n",
        "        self.conv2 = GCNConv(2*out_channels, 4*out_channels)\n",
        "        self.conv3 = GCNConv(4*out_channels, out_channels)\n",
        "\n",
        "    def forward(self, x, edge_index):\n",
        "        x = self.conv1(x, edge_index).relu()\n",
        "        x = self.conv2(x, edge_index).relu()\n",
        "        return self.conv3(x, edge_index)"
      ],
      "metadata": {
        "id": "qwakqtTe8SQV"
      },
      "execution_count": 8,
      "outputs": []
    },
    {
      "cell_type": "code",
      "source": [
        "device = torch.device('cuda' if torch.cuda.is_available() else 'cpu')"
      ],
      "metadata": {
        "id": "GQeMKJ7L-xRg"
      },
      "execution_count": 9,
      "outputs": []
    },
    {
      "cell_type": "code",
      "source": [
        "out_channels = 2\n",
        "num_features = dataset.num_features\n",
        "\n",
        "model = GAE(GCNEncoder(num_features, out_channels)).to(device)"
      ],
      "metadata": {
        "id": "6yPEhHRq-Qtj"
      },
      "execution_count": 10,
      "outputs": []
    },
    {
      "cell_type": "code",
      "source": [
        "model"
      ],
      "metadata": {
        "colab": {
          "base_uri": "https://localhost:8080/"
        },
        "id": "Au9eHLIbAPIf",
        "outputId": "2e8be80a-1aad-48b1-986b-390f1288cada"
      },
      "execution_count": 11,
      "outputs": [
        {
          "output_type": "execute_result",
          "data": {
            "text/plain": [
              "GAE(\n",
              "  (encoder): GCNEncoder(\n",
              "    (conv1): GCNConv(3703, 4)\n",
              "    (conv2): GCNConv(4, 8)\n",
              "    (conv3): GCNConv(8, 2)\n",
              "  )\n",
              "  (decoder): InnerProductDecoder()\n",
              ")"
            ]
          },
          "metadata": {},
          "execution_count": 11
        }
      ]
    },
    {
      "cell_type": "code",
      "source": [
        "x = data.x.to(device)\n",
        "train_pos_edge_index = data.train_pos_edge_index.to(device)"
      ],
      "metadata": {
        "id": "ZKe2P6eH-QsO"
      },
      "execution_count": 12,
      "outputs": []
    },
    {
      "cell_type": "code",
      "source": [
        "optimizer = Adam(model.parameters(), lr=0.001)"
      ],
      "metadata": {
        "id": "kyYnnZiE-Qpd"
      },
      "execution_count": 13,
      "outputs": []
    },
    {
      "cell_type": "code",
      "source": [
        "def train():\n",
        "  model.train()\n",
        "  optimizer.zero_grad()\n",
        "  z = model.encode(x, train_pos_edge_index)\n",
        "  loss = model.recon_loss(z, train_pos_edge_index)\n",
        "  loss.backward()\n",
        "  optimizer.step()\n",
        "  return float(loss)\n",
        "\n",
        "\n",
        "def test(pos_edge_index, neg_edge_index):\n",
        "  model.eval()\n",
        "  with torch.no_grad():\n",
        "      z = model.encode(x, train_pos_edge_index)\n",
        "  return model.test(z, pos_edge_index, neg_edge_index)"
      ],
      "metadata": {
        "id": "23Qlc22b-Qnl"
      },
      "execution_count": 14,
      "outputs": []
    },
    {
      "cell_type": "code",
      "source": [
        "epochs = 500\n",
        "\n",
        "for epoch in range(epochs):\n",
        "    loss = train()\n",
        "    auc, ap = test(data.test_pos_edge_index, data.test_neg_edge_index)\n",
        "    if epoch % 10 == 0:\n",
        "        print(f'Epoch: {epoch}, Loss: {loss:.4f}, AUC: {auc:.4f}, AP: {ap:.4f}')"
      ],
      "metadata": {
        "colab": {
          "base_uri": "https://localhost:8080/"
        },
        "id": "e5nPpk03AJp-",
        "outputId": "22d6aca3-100a-4511-d0bd-2255e2299268"
      },
      "execution_count": 15,
      "outputs": [
        {
          "output_type": "stream",
          "name": "stdout",
          "text": [
            "Epoch: 0, Loss: 1.3863, AUC: 0.6116, AP: 0.6241\n",
            "Epoch: 10, Loss: 1.3860, AUC: 0.6584, AP: 0.6928\n",
            "Epoch: 20, Loss: 1.3848, AUC: 0.6632, AP: 0.6985\n",
            "Epoch: 30, Loss: 1.3821, AUC: 0.6640, AP: 0.7002\n",
            "Epoch: 40, Loss: 1.3775, AUC: 0.6657, AP: 0.7026\n",
            "Epoch: 50, Loss: 1.3716, AUC: 0.6660, AP: 0.7053\n",
            "Epoch: 60, Loss: 1.3669, AUC: 0.6672, AP: 0.7093\n",
            "Epoch: 70, Loss: 1.3608, AUC: 0.6685, AP: 0.7143\n",
            "Epoch: 80, Loss: 1.3540, AUC: 0.6685, AP: 0.7194\n",
            "Epoch: 90, Loss: 1.3467, AUC: 0.6668, AP: 0.7223\n",
            "Epoch: 100, Loss: 1.3367, AUC: 0.6650, AP: 0.7247\n",
            "Epoch: 110, Loss: 1.3265, AUC: 0.6623, AP: 0.7251\n",
            "Epoch: 120, Loss: 1.3142, AUC: 0.6596, AP: 0.7255\n",
            "Epoch: 130, Loss: 1.2996, AUC: 0.6587, AP: 0.7252\n",
            "Epoch: 140, Loss: 1.2880, AUC: 0.6615, AP: 0.7264\n",
            "Epoch: 150, Loss: 1.2695, AUC: 0.6704, AP: 0.7294\n",
            "Epoch: 160, Loss: 1.2555, AUC: 0.6966, AP: 0.7387\n",
            "Epoch: 170, Loss: 1.2344, AUC: 0.7293, AP: 0.7527\n",
            "Epoch: 180, Loss: 1.2176, AUC: 0.7581, AP: 0.7680\n",
            "Epoch: 190, Loss: 1.1962, AUC: 0.7766, AP: 0.7796\n",
            "Epoch: 200, Loss: 1.1773, AUC: 0.7893, AP: 0.7887\n",
            "Epoch: 210, Loss: 1.1574, AUC: 0.8003, AP: 0.7969\n",
            "Epoch: 220, Loss: 1.1304, AUC: 0.8065, AP: 0.8019\n",
            "Epoch: 230, Loss: 1.1205, AUC: 0.8111, AP: 0.8053\n",
            "Epoch: 240, Loss: 1.1132, AUC: 0.8133, AP: 0.8071\n",
            "Epoch: 250, Loss: 1.0951, AUC: 0.8158, AP: 0.8089\n",
            "Epoch: 260, Loss: 1.0781, AUC: 0.8174, AP: 0.8104\n",
            "Epoch: 270, Loss: 1.0939, AUC: 0.8185, AP: 0.8112\n",
            "Epoch: 280, Loss: 1.0700, AUC: 0.8204, AP: 0.8124\n",
            "Epoch: 290, Loss: 1.0632, AUC: 0.8213, AP: 0.8126\n",
            "Epoch: 300, Loss: 1.0786, AUC: 0.8217, AP: 0.8127\n",
            "Epoch: 310, Loss: 1.0773, AUC: 0.8227, AP: 0.8137\n",
            "Epoch: 320, Loss: 1.0679, AUC: 0.8235, AP: 0.8144\n",
            "Epoch: 330, Loss: 1.0566, AUC: 0.8240, AP: 0.8149\n",
            "Epoch: 340, Loss: 1.0607, AUC: 0.8247, AP: 0.8156\n",
            "Epoch: 350, Loss: 1.0475, AUC: 0.8258, AP: 0.8162\n",
            "Epoch: 360, Loss: 1.0488, AUC: 0.8258, AP: 0.8164\n",
            "Epoch: 370, Loss: 1.0564, AUC: 0.8257, AP: 0.8164\n",
            "Epoch: 380, Loss: 1.0534, AUC: 0.8256, AP: 0.8164\n",
            "Epoch: 390, Loss: 1.0573, AUC: 0.8262, AP: 0.8166\n",
            "Epoch: 400, Loss: 1.0485, AUC: 0.8262, AP: 0.8167\n",
            "Epoch: 410, Loss: 1.0522, AUC: 0.8255, AP: 0.8163\n",
            "Epoch: 420, Loss: 1.0503, AUC: 0.8253, AP: 0.8160\n",
            "Epoch: 430, Loss: 1.0426, AUC: 0.8252, AP: 0.8156\n",
            "Epoch: 440, Loss: 1.0597, AUC: 0.8250, AP: 0.8152\n",
            "Epoch: 450, Loss: 1.0495, AUC: 0.8243, AP: 0.8149\n",
            "Epoch: 460, Loss: 1.0476, AUC: 0.8237, AP: 0.8146\n",
            "Epoch: 470, Loss: 1.0521, AUC: 0.8237, AP: 0.8142\n",
            "Epoch: 480, Loss: 1.0566, AUC: 0.8234, AP: 0.8141\n",
            "Epoch: 490, Loss: 1.0498, AUC: 0.8219, AP: 0.8134\n"
          ]
        }
      ]
    },
    {
      "cell_type": "code",
      "source": [],
      "metadata": {
        "id": "R6xTrMKKAzrE"
      },
      "execution_count": 15,
      "outputs": []
    }
  ]
}